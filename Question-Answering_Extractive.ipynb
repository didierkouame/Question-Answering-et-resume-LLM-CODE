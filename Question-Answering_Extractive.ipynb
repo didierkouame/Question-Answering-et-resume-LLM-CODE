{
 "cells": [
  {
   "cell_type": "code",
   "execution_count": 1,
   "id": "0379fe03-9895-463c-ad83-c185f5f902d7",
   "metadata": {},
   "outputs": [],
   "source": [
    "#-*- coding: utf-8 -*-"
   ]
  },
  {
   "cell_type": "code",
   "execution_count": 1,
   "id": "9107439f-77be-49a7-b319-cb532ec4368f",
   "metadata": {},
   "outputs": [
    {
     "name": "stderr",
     "output_type": "stream",
     "text": [
      "2025-02-10 23:01:27.967271: E external/local_xla/xla/stream_executor/cuda/cuda_fft.cc:477] Unable to register cuFFT factory: Attempting to register factory for plugin cuFFT when one has already been registered\n",
      "WARNING: All log messages before absl::InitializeLog() is called are written to STDERR\n",
      "E0000 00:00:1739224888.079299  138400 cuda_dnn.cc:8310] Unable to register cuDNN factory: Attempting to register factory for plugin cuDNN when one has already been registered\n",
      "E0000 00:00:1739224888.114341  138400 cuda_blas.cc:1418] Unable to register cuBLAS factory: Attempting to register factory for plugin cuBLAS when one has already been registered\n",
      "2025-02-10 23:01:28.380652: I tensorflow/core/platform/cpu_feature_guard.cc:210] This TensorFlow binary is optimized to use available CPU instructions in performance-critical operations.\n",
      "To enable the following instructions: AVX2 FMA, in other operations, rebuild TensorFlow with the appropriate compiler flags.\n"
     ]
    }
   ],
   "source": [
    "import glob\n",
    "import os\n",
    "from bs4 import BeautifulSoup\n",
    "import os\n",
    "os.environ[\"CUDA_VISIBLE_DEVICES\"] = \"-1\"\n",
    "import tensorflow as tf\n",
    "from transformers import pipeline\n",
    "from transformers import AutoTokenizer, AutoModelForQuestionAnswering, AutoModelForMaskedLM, AutoModel\n",
    "import glob\n",
    "from bs4 import BeautifulSoup\n",
    "from tqdm import tqdm"
   ]
  },
  {
   "cell_type": "code",
   "execution_count": 2,
   "id": "1bc18fb7-2e9d-4cda-b7ba-b56a593b99ac",
   "metadata": {},
   "outputs": [],
   "source": [
    "def lire_fichier(chemin):\n",
    "    \"\"\" Lecture de fichier\"\"\"\n",
    "    fichier = open(chemin, encoding='utf-8')\n",
    "    chaine = fichier.read()\n",
    "    fichier.close()\n",
    "    return chaine"
   ]
  },
  {
   "cell_type": "code",
   "execution_count": null,
   "id": "133cdf6b-cf58-49b3-8f86-eea2910f95e8",
   "metadata": {},
   "outputs": [],
   "source": [
    "# télécharger un modèle"
   ]
  },
  {
   "cell_type": "code",
   "execution_count": 11,
   "id": "25652503-7da8-4cfd-8157-ed4f17c47aaf",
   "metadata": {},
   "outputs": [],
   "source": [
    "# sauvegarder en local\n",
    "#tokenizer.save_pretrained(\"../IA/models/QAmembert/\")\n",
    "#model.save_pretrained(\"../IA/models/QAmembert/\")"
   ]
  },
  {
   "cell_type": "code",
   "execution_count": 26,
   "id": "cf1d34cb-4d33-43bd-9650-c8b998e1565b",
   "metadata": {},
   "outputs": [],
   "source": [
    "# charger un modèle existant en local\n",
    "chemin_model = \"../IA/models/mdberta-v3-base-squad2/\"\n",
    "tokenizer = AutoTokenizer.from_pretrained(chemin_model)\n",
    "model = AutoModelForQuestionAnswering.from_pretrained(chemin_model)"
   ]
  },
  {
   "cell_type": "code",
   "execution_count": 27,
   "id": "0d6bdfb9-cf75-4279-8007-74d2cf5c05fb",
   "metadata": {},
   "outputs": [
    {
     "name": "stderr",
     "output_type": "stream",
     "text": [
      "Device set to use cpu\n"
     ]
    }
   ],
   "source": [
    "# pipeline\n",
    "\n",
    "pipe = pipeline(\"question-answering\", model=model, tokenizer=tokenizer)"
   ]
  },
  {
   "cell_type": "code",
   "execution_count": 34,
   "id": "589d2d1f-bc6a-4b1d-958a-f3e5fa166a27",
   "metadata": {},
   "outputs": [
    {
     "name": "stderr",
     "output_type": "stream",
     "text": [
      "Questions en cours de traitement:  17%|███████████▏                                                       | 1/6 [00:09<00:47,  9.43s/it]"
     ]
    },
    {
     "name": "stdout",
     "output_type": "stream",
     "text": [
      "Question :  Quels sont les deux principes principaux sur lesquels repose actuellement l'acquisition de la nationalité française ?\n",
      "Réponse :   droit du sang et du droit du sol,\n"
     ]
    },
    {
     "name": "stderr",
     "output_type": "stream",
     "text": [
      "Questions en cours de traitement:  33%|██████████████████████▎                                            | 2/6 [00:18<00:36,  9.20s/it]"
     ]
    },
    {
     "name": "stdout",
     "output_type": "stream",
     "text": [
      "Question :  Quelles sont les conditions spécifiques à Mayotte pour qu'un enfant obtienne la nationalité française ?\n",
      "Réponse :   les « deux parents » (et non plus d'un seul)\n"
     ]
    },
    {
     "name": "stderr",
     "output_type": "stream",
     "text": [
      "Questions en cours de traitement:  50%|█████████████████████████████████▌                                 | 3/6 [00:27<00:27,  9.22s/it]"
     ]
    },
    {
     "name": "stdout",
     "output_type": "stream",
     "text": [
      "Question :  En quoi consiste la procédure de naturalisation par mariage et quels sont les critères à remplir ?\n",
      "Réponse :   justifiant de certains liens affectifs et parentaux.\n"
     ]
    },
    {
     "name": "stderr",
     "output_type": "stream",
     "text": [
      "Questions en cours de traitement:  67%|████████████████████████████████████████████▋                      | 4/6 [00:36<00:18,  9.24s/it]"
     ]
    },
    {
     "name": "stdout",
     "output_type": "stream",
     "text": [
      "Question :  Quels types de services exceptionnels peuvent mener à l'acquisition de la nationalité française ?\n",
      "Réponse :   liens familiaux\n",
      "D'autres liens affectifs\n"
     ]
    },
    {
     "name": "stderr",
     "output_type": "stream",
     "text": [
      "Questions en cours de traitement:  83%|███████████████████████████████████████████████████████▊           | 5/6 [00:47<00:09,  9.72s/it]"
     ]
    },
    {
     "name": "stdout",
     "output_type": "stream",
     "text": [
      "Question :  Quelles sont les raisons pour lesquelles le gouvernement pourrait refuser une demande de naturalisation, même si toutes les conditions sont remplies ?\n",
      "Réponse :   discrétionnaire\n"
     ]
    },
    {
     "name": "stderr",
     "output_type": "stream",
     "text": [
      "Questions en cours de traitement: 100%|███████████████████████████████████████████████████████████████████| 6/6 [00:57<00:00,  9.55s/it]"
     ]
    },
    {
     "name": "stdout",
     "output_type": "stream",
     "text": [
      "Question :  Quelles conditions peuvent réduire la durée minimale de résidence pour demander la naturalisation ?\n",
      "Réponse :   s'il a rendu des services importants à la France.\n"
     ]
    },
    {
     "name": "stderr",
     "output_type": "stream",
     "text": [
      "\n"
     ]
    }
   ],
   "source": [
    "# Étant donné qu'on a déjà travaillé sur les sections du corpus TALN-RECITAL \n",
    "# On reprend un document du même corpus\n",
    "# toujours sur les sections d'un document \n",
    "# De base les documents sont en .pdf\n",
    "# Pour trouver et extraire les sections d'un document on a utilisé GROBID qui est utile pour travailler sur des documents scientifiques bien structurés\n",
    "# Et on extrait le contenu des sections qui se trouvent entre des balises <div> </div>\n",
    "\n",
    "article = \"\"\"Droit du sang, du sol, naturalisation : quelles sont les règles pour devenir Français ?\n",
    "Le gouvernement a rouvert ces derniers jours le débat sur les conditions d'acquisition de la nationalité française. Actuellement, la nationalité française repose sur le droit du sang et le droit du sol.\n",
    "\n",
    "C.T - Aujourd'hui à 19:01 - Temps de lecture : 6 min\n",
    "  |  \n",
    "En 2023, 97 288 personnes ont acquis la nationalité française. Photo d'illustration Sipa / Patrick Siccoli\n",
    "En 2023, 97 288 personnes ont acquis la nationalité française. Photo d'illustration Sipa / Patrick Siccoli\n",
    "\n",
    "Depuis quelques jours, la classe politique s'enflamme autour de l'acquisition de la nationalité française. Le Premier ministre François Bayrou souhaite ouvrir un débat sur « qu'est ce que c'est d'être Français ». Son ministre de la Justice, Gérald Darmanin, estime que « le débat public doit s'ouvrir sur le droit du sol dans notre pays ».\n",
    "\n",
    "Éric Lombard, ministre de l'Économie juge, lui, « le dispositif législatif actuel tout à fait satisfaisant », tout comme François Hollande, qui estime le débat « inutile ». Enfin, la cheffe de file du Rassemblement national, Marine Le Pen, réclame un référendum pour changer la loi. \n",
    "\n",
    "En France, la nationalité repose sur une combinaison du droit du sang et du droit du sol, des principes qui remontent au Moyen Âge. Mais il est aussi possible d'obtenir la nationalité française par d'autres moyens. On fait le point sur les règles en vigueur qui permettent actuellement de devenir Français.\n",
    "\n",
    "Le droit du sang \n",
    "La nationalité française est attribuée de manière automatique à toute personne dont au moins un des parents est Français, et ce peu importe son lieu de naissance. C'est le droit du sang.\n",
    "\n",
    "L'enfant né en France qui a un de ses parents qui y est lui-même né obtient également la nationalité française dès sa naissance. La nationalité française est également accordée de manière automatique à l'enfant né en France de deux parents apatrides.\n",
    "\n",
    "Le droit du sol\n",
    "Lorsque les deux parents sont étrangers, l'enfant né en France peut obtenir la nationalité française à sa majorité. C'est ce qu'on appelle le droit du sol. Mais certaines conditions sont nécessaires: il doit résider en France à l'âge de ses 18 ans et y avoir résidé pendant au moins cinq ans, de manière continue ou discontinue, depuis ses 11 ans. Si l'enfant remplit ces conditions, l'acquisition est automatique à la majorité.\n",
    "\n",
    "Cette obtention de la nationalité française à la majorité en vertu du droit du sol peut être anticipée dès l'âge de 13 ans, en faisant une demande de naturalisation en préfecture. Il faut alors que les représentants légaux de l'enfant justifient une résidence en France de cinq années depuis l'âge de 8 ans.\n",
    "\n",
    "L'exception Mayotte\n",
    "\n",
    "Les règles ne sont pas les mêmes à Mayotte, où le droit du sol a été durci en 2018 par la loi Asile et immigration. Pour qu'un enfant né à Mayotte devienne Français, il faut que l'un de ses parents ait, au jour de sa naissance, été présent de manière régulière en France depuis au moins trois mois.\n",
    "\n",
    "Jeudi dernier, l'Assemblée nationale a également adopté une proposition de loi visant à restreindre davantage le droit du sol à Mayotte. Si elle était définitivement adoptée, elle conditionnerait l'obtention de la nationalité française pour les enfants nés à Mayotte au fait que les « deux parents » (et non plus d'un seul) aient été présents régulièrement sur le sol français depuis au moins trois ans (et non plus trois mois).\n",
    "\n",
    "Le mariage\n",
    "Il est également possible d'obtenir la nationalité française en justifiant de certains liens affectifs et parentaux. L'étranger marié à une personne de nationalité française peut ainsi devenir français par déclaration, quatre ans après le mariage. Il faut toutefois pouvoir justifier d'une communauté de vie affective et matérielle et d'une connaissance suffisante de la langue française. Pour pouvoir obtenir la nationalité française, la personne ne doit pas avoir été condamné à une peine d'au moins 6 mois de prison avec sursis, ni avoir été condamné pour un crime ou un délit constituant une atteinte aux intérêts fondamentaux de la Nation, ou avoir été condamné pour un acte de terrorisme. \n",
    "\n",
    "Le délai d'obtention de la nationalité est porté à cinq ans de mariage lorsque le demandeur ne justifie pas d'avoir résidé au moins trois ans en France à compter du mariage ou pendant la résidence à l'étranger du couple, si le conjoint français n'a pas été inscrit au registre des Français établis hors de France. Dans tous les cas, une fois le dossier de demande de naturalisation déposé, les époux sont convoqués à un entretien au cours duquel la réalité de la communauté de vie et de l'assimilation à la société française seront vérifiés. Les acquisitions par mariage représentaient en 2023 20% des acquisitions de la nationalité française, selon les données de l'Insee.\n",
    "\n",
    "A lire aussi\n",
    "\n",
    "Après les budgets, le gouvernement de François Bayrou menacé par le dossier de l'immigration\n",
    "\n",
    "Débat sur l'immigration : le patron du PS ne veut pas laisser la place à la droite\n",
    "\n",
    "Des liens familiaux\n",
    "D'autres liens affectifs peuvent aussi permettre d'obtenir la nationalité française. Ainsi, si vous êtes un étranger de 65 ans au moins et avez un enfant, petit-enfant ou arrière petit-enfant de nationalité française, vous pouvez réclamer la nationalité française, à condition de résider régulièrement et habituellement en France depuis au moins 25 ans.\n",
    "\n",
    "De la même manière, si votre frère ou soeur a obtenu la nationalité française en vertu du droit du sol, vous pouvez également l'obtenir. Il faut pour cela respecter certaines conditions : résider en France depuis l'âge de 6 ans de manière habituelle et régulière, avoir suivi la scolarité obligatoire en France dans un établissement soumis au contrôle de l'Etat, ne pas avoir eu de condamnation pénale et ne pas avoir fait l'objet d'un arrêté d'expulsion ou d'une interdiction du territoire français toujours en vigueur.\n",
    "\n",
    "Vous pouvez également devenir Français si vous avez été adopté ou recueilli par une personne française. Les acquisitions par ascendants et fratrie représentaient en 2023 2,2% des acquisitions de la nationalité française, selon les données de l'Insee.\n",
    "\n",
    "La naturalisation\n",
    "D'autres conditions permettent de demander l'acquisition de la nationalité française à partir de 18 ans : avoir le statut de réfugié, venir d'un pays francophone et parler le français, venir d'un pays francophone et avoir été scolarisé cinq ans ou plus dans un établissement enseignant en langue français, avoir fait son service militaire dans l'armée française, s'être engagé dans l'armée française ou une armée alliée en temps de guerre, avoir rendu des services exceptionnels à la France, avoir obtenir un diplôme d'enseignement supérieur français après deux ans d'études, avoir accompli un parcours exceptionnel d'intégration. \n",
    "\n",
    "Une durée minimale de cinq ans de résidence est exigée, et peut être abaissée à deux ans si le demandeur a accompli avec succès deux ans d'étude dans un établissement d'enseignement supérieur français ou s'il a rendu des services importants à la France. Il faut aussi avoir en France le centre de ses intérêts matériels et de ses liens familiaux. Il faut aussi prouver son assimilation à la communauté française, notamment en étant en accord avec les principes et valeurs essentiels de la République et en ayant des connaissances sur l'histoire, la culture et la société françaises. Il faut aussi pouvoir justifier d'une insertion professionnelle et d'une connaissance suffisante de la langue française.\n",
    "\n",
    "La demande de naturalisation est discrétionnaire et l'administration peut refuser la demande même si toutes les conditions d'accès sont remplies. En 2023, les acquisitions par naturalisation représentaient 40,8% des acquisitions de la nationalité française.\n",
    "\n",
    "Des cas exceptionnels\n",
    "Enfin, la nationalité française peut vous être accordée de manière exceptionnelle sur proposition du ministre de la Défense si vous avez été blessé lors de votre engagement dans l'armée française ou sur proposition du ministre des Affaires étrangères si vous êtes francophone et que vous contribuez par votre activité au rayonnement de la France.\"\"\" # ou mettre ici un texte quelconque \n",
    "Documents = {}\n",
    "a = 0\n",
    "liste_fichiers = glob.glob(\"../IA/TALN_FR/101.pdf.tei.xml\") # ou interroger un document ou une liste de documents au lieu de l'article\n",
    "\n",
    "for chemin in liste_fichiers:\n",
    "    doc = Documents[chemin] = lire_fichier(chemin)\n",
    "    soup = BeautifulSoup(doc, 'html.parser')\n",
    "    toutes_sections = \"\"\n",
    "    a = 0\n",
    "    for cpt, bloc in enumerate(soup.find_all(\"div\")):\n",
    "        section = bloc.text\n",
    "        if len(section) < 100:\n",
    "            continue\n",
    "        toutes_sections += section + \"\\n\\n\" # concaténer les sections\n",
    "    #print(\"Document : \")\n",
    "    #print(chemin)\n",
    "    # stocker une liste de questions \n",
    "    questions = [\"Quels sont les deux principes principaux sur lesquels repose actuellement l'acquisition de la nationalité française ?\",\n",
    "                \"Quelles sont les conditions spécifiques à Mayotte pour qu'un enfant obtienne la nationalité française ?\",\n",
    "                \"En quoi consiste la procédure de naturalisation par mariage et quels sont les critères à remplir ?\",\n",
    "                \"Quels types de services exceptionnels peuvent mener à l'acquisition de la nationalité française ?\",\n",
    "                \"Quelles sont les raisons pour lesquelles le gouvernement pourrait refuser une demande de naturalisation, même si toutes les conditions sont remplies ?\",\n",
    "                \"Quelles conditions peuvent réduire la durée minimale de résidence pour demander la naturalisation ?\"]\n",
    "    for question in tqdm(questions, desc=\"Questions en cours de traitement\"):\n",
    "        reponse = pipe(question=question, context=article) # ou changer la variable context pour mettre \"toutes_sections\" pour les sections du/des documents sélectionnés\n",
    "        print(\"Question : \",question)\n",
    "        print(\"Réponse : \", reponse['answer'])"
   ]
  },
  {
   "cell_type": "code",
   "execution_count": null,
   "id": "0acd6810-5af8-4d41-afb6-e1f3b533f908",
   "metadata": {
    "scrolled": true
   },
   "outputs": [],
   "source": []
  },
  {
   "cell_type": "code",
   "execution_count": null,
   "id": "db09019d-ff07-403c-aa12-84df9909fdc6",
   "metadata": {},
   "outputs": [],
   "source": []
  },
  {
   "cell_type": "code",
   "execution_count": null,
   "id": "1938d138-efb9-4a50-a71e-ac6ea7347561",
   "metadata": {},
   "outputs": [],
   "source": []
  },
  {
   "cell_type": "code",
   "execution_count": null,
   "id": "16ce9897-e7e1-40bc-b41b-b7843964c840",
   "metadata": {},
   "outputs": [],
   "source": []
  },
  {
   "cell_type": "code",
   "execution_count": 19,
   "id": "de2bd2b0-158f-45b1-a88e-371bef137ed0",
   "metadata": {},
   "outputs": [],
   "source": []
  },
  {
   "cell_type": "code",
   "execution_count": null,
   "id": "ea4b44c7-9f57-457e-856c-379dd3e550a0",
   "metadata": {},
   "outputs": [],
   "source": []
  },
  {
   "cell_type": "code",
   "execution_count": null,
   "id": "6049f3dc-a472-40d2-8ebb-028d7d5e4067",
   "metadata": {},
   "outputs": [],
   "source": []
  },
  {
   "cell_type": "code",
   "execution_count": null,
   "id": "a0c7c166-3757-45c4-b683-22bfcb324a49",
   "metadata": {},
   "outputs": [],
   "source": []
  }
 ],
 "metadata": {
  "kernelspec": {
   "display_name": "Python 3 (ipykernel)",
   "language": "python",
   "name": "python3"
  },
  "language_info": {
   "codemirror_mode": {
    "name": "ipython",
    "version": 3
   },
   "file_extension": ".py",
   "mimetype": "text/x-python",
   "name": "python",
   "nbconvert_exporter": "python",
   "pygments_lexer": "ipython3",
   "version": "3.12.7"
  }
 },
 "nbformat": 4,
 "nbformat_minor": 5
}
