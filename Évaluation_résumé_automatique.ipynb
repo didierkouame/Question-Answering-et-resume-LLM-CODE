{
 "cells": [
  {
   "cell_type": "code",
   "execution_count": 2,
   "id": "d74c5bb2-1381-464b-a0c5-8f8a1a0b6ab2",
   "metadata": {},
   "outputs": [],
   "source": [
    "def lire_fichier(chemin):\n",
    "    \"\"\"Lecture de fichier\"\"\"\n",
    "    with open(chemin, encoding='utf-8') as fichier:\n",
    "        chaine = fichier.read()\n",
    "    return chaine"
   ]
  },
  {
   "cell_type": "code",
   "execution_count": 3,
   "id": "abfeb2e7-2025-4158-84cd-c35dfb3e12fe",
   "metadata": {},
   "outputs": [],
   "source": [
    "# En dessous on a l'article dont on a généré le résumé avec gemini avec la plateforme vertex ai"
   ]
  },
  {
   "cell_type": "code",
   "execution_count": 4,
   "id": "f8f7d0fe-d308-4f5f-87e9-daa2157f4d33",
   "metadata": {},
   "outputs": [],
   "source": [
    "article = \"\"\"Droit du sang, du sol, naturalisation : quelles sont les règles pour devenir Français ?\n",
    "Le gouvernement a rouvert ces derniers jours le débat sur les conditions d'acquisition de la nationalité française. Actuellement, la nationalité française repose sur le droit du sang et le droit du sol.\n",
    "\n",
    "C.T - Aujourd'hui à 19:01 - Temps de lecture : 6 min\n",
    "  |  \n",
    "En 2023, 97 288 personnes ont acquis la nationalité française. Photo d'illustration Sipa / Patrick Siccoli\n",
    "En 2023, 97 288 personnes ont acquis la nationalité française. Photo d'illustration Sipa / Patrick Siccoli\n",
    "\n",
    "Depuis quelques jours, la classe politique s'enflamme autour de l'acquisition de la nationalité française. Le Premier ministre François Bayrou souhaite ouvrir un débat sur « qu'est ce que c'est d'être Français ». Son ministre de la Justice, Gérald Darmanin, estime que « le débat public doit s'ouvrir sur le droit du sol dans notre pays ».\n",
    "\n",
    "Éric Lombard, ministre de l'Économie juge, lui, « le dispositif législatif actuel tout à fait satisfaisant », tout comme François Hollande, qui estime le débat « inutile ». Enfin, la cheffe de file du Rassemblement national, Marine Le Pen, réclame un référendum pour changer la loi. \n",
    "\n",
    "En France, la nationalité repose sur une combinaison du droit du sang et du droit du sol, des principes qui remontent au Moyen Âge. Mais il est aussi possible d'obtenir la nationalité française par d'autres moyens. On fait le point sur les règles en vigueur qui permettent actuellement de devenir Français.\n",
    "\n",
    "Le droit du sang \n",
    "La nationalité française est attribuée de manière automatique à toute personne dont au moins un des parents est Français, et ce peu importe son lieu de naissance. C'est le droit du sang.\n",
    "\n",
    "L'enfant né en France qui a un de ses parents qui y est lui-même né obtient également la nationalité française dès sa naissance. La nationalité française est également accordée de manière automatique à l'enfant né en France de deux parents apatrides.\n",
    "\n",
    "Le droit du sol\n",
    "Lorsque les deux parents sont étrangers, l'enfant né en France peut obtenir la nationalité française à sa majorité. C'est ce qu'on appelle le droit du sol. Mais certaines conditions sont nécessaires: il doit résider en France à l'âge de ses 18 ans et y avoir résidé pendant au moins cinq ans, de manière continue ou discontinue, depuis ses 11 ans. Si l'enfant remplit ces conditions, l'acquisition est automatique à la majorité.\n",
    "\n",
    "Cette obtention de la nationalité française à la majorité en vertu du droit du sol peut être anticipée dès l'âge de 13 ans, en faisant une demande de naturalisation en préfecture. Il faut alors que les représentants légaux de l'enfant justifient une résidence en France de cinq années depuis l'âge de 8 ans.\n",
    "\n",
    "L'exception Mayotte\n",
    "Les règles ne sont pas les mêmes à Mayotte, où le droit du sol a été durci en 2018 par la loi Asile et immigration. Pour qu'un enfant né à Mayotte devienne Français, il faut que l'un de ses parents ait, au jour de sa naissance, été présent de manière régulière en France depuis au moins trois mois.\n",
    "Jeudi dernier, l'Assemblée nationale a également adopté une proposition de loi visant à restreindre davantage le droit du sol à Mayotte. Si elle était définitivement adoptée, elle conditionnerait l'obtention de la nationalité française pour les enfants nés à Mayotte au fait que les « deux parents » (et non plus d'un seul) aient été présents régulièrement sur le sol français depuis au moins trois ans (et non plus trois mois).\n",
    "\n",
    "Le mariage\n",
    "Il est également possible d'obtenir la nationalité française en justifiant de certains liens affectifs et parentaux. L'étranger marié à une personne de nationalité française peut ainsi devenir français par déclaration, quatre ans après le mariage. Il faut toutefois pouvoir justifier d'une communauté de vie affective et matérielle et d'une connaissance suffisante de la langue française. Pour pouvoir obtenir la nationalité française, la personne ne doit pas avoir été condamné à une peine d'au moins 6 mois de prison avec sursis, ni avoir été condamné pour un crime ou un délit constituant une atteinte aux intérêts fondamentaux de la Nation, ou avoir été condamné pour un acte de terrorisme. \n",
    "\n",
    "Le délai d'obtention de la nationalité est porté à cinq ans de mariage lorsque le demandeur ne justifie pas d'avoir résidé au moins trois ans en France à compter du mariage ou pendant la résidence à l'étranger du couple, si le conjoint français n'a pas été inscrit au registre des Français établis hors de France. Dans tous les cas, une fois le dossier de demande de naturalisation déposé, les époux sont convoqués à un entretien au cours duquel la réalité de la communauté de vie et de l'assimilation à la société française seront vérifiés. Les acquisitions par mariage représentaient en 2023 20% des acquisitions de la nationalité française, selon les données de l'Insee.\n",
    "\n",
    "A lire aussi\n",
    "\n",
    "Après les budgets, le gouvernement de François Bayrou menacé par le dossier de l'immigration\n",
    "\n",
    "Débat sur l'immigration : le patron du PS ne veut pas laisser la place à la droite\n",
    "\n",
    "Des liens familiaux\n",
    "D'autres liens affectifs peuvent aussi permettre d'obtenir la nationalité française. Ainsi, si vous êtes un étranger de 65 ans au moins et avez un enfant, petit-enfant ou arrière petit-enfant de nationalité française, vous pouvez réclamer la nationalité française, à condition de résider régulièrement et habituellement en France depuis au moins 25 ans.\n",
    "\n",
    "De la même manière, si votre frère ou soeur a obtenu la nationalité française en vertu du droit du sol, vous pouvez également l'obtenir. Il faut pour cela respecter certaines conditions : résider en France depuis l'âge de 6 ans de manière habituelle et régulière, avoir suivi la scolarité obligatoire en France dans un établissement soumis au contrôle de l'Etat, ne pas avoir eu de condamnation pénale et ne pas avoir fait l'objet d'un arrêté d'expulsion ou d'une interdiction du territoire français toujours en vigueur.\n",
    "\n",
    "Vous pouvez également devenir Français si vous avez été adopté ou recueilli par une personne française. Les acquisitions par ascendants et fratrie représentaient en 2023 2,2% des acquisitions de la nationalité française, selon les données de l'Insee.\n",
    "\n",
    "La naturalisation\n",
    "D'autres conditions permettent de demander l'acquisition de la nationalité française à partir de 18 ans : avoir le statut de réfugié, venir d'un pays francophone et parler le français, venir d'un pays francophone et avoir été scolarisé cinq ans ou plus dans un établissement enseignant en langue français, avoir fait son service militaire dans l'armée française, s'être engagé dans l'armée française ou une armée alliée en temps de guerre, avoir rendu des services exceptionnels à la France, avoir obtenir un diplôme d'enseignement supérieur français après deux ans d'études, avoir accompli un parcours exceptionnel d'intégration. \n",
    "\n",
    "Une durée minimale de cinq ans de résidence est exigée, et peut être abaissée à deux ans si le demandeur a accompli avec succès deux ans d'étude dans un établissement d'enseignement supérieur français ou s'il a rendu des services importants à la France. Il faut aussi avoir en France le centre de ses intérêts matériels et de ses liens familiaux. Il faut aussi prouver son assimilation à la communauté française, notamment en étant en accord avec les principes et valeurs essentiels de la République et en ayant des connaissances sur l'histoire, la culture et la société françaises. Il faut aussi pouvoir justifier d'une insertion professionnelle et d'une connaissance suffisante de la langue française.\n",
    "\n",
    "La demande de naturalisation est discrétionnaire et l'administration peut refuser la demande même si toutes les conditions d'accès sont remplies. En 2023, les acquisitions par naturalisation représentaient 40,8% des acquisitions de la nationalité française.\n",
    "\n",
    "Des cas exceptionnels\n",
    "Enfin, la nationalité française peut vous être accordée de manière exceptionnelle sur proposition du ministre de la Défense si vous avez été blessé lors de votre engagement dans l'armée française ou sur proposition du ministre des Affaires étrangères si vous êtes francophone et que vous contribuez par votre activité au rayonnement de la France.\"\"\""
   ]
  },
  {
   "cell_type": "code",
   "execution_count": 5,
   "id": "82830552-f9c0-4bf7-9520-db2d2d1e9149",
   "metadata": {},
   "outputs": [],
   "source": [
    "# En dessous les questions qu'on va poser aux résumé à défaut de les poser sur le texte "
   ]
  },
  {
   "cell_type": "code",
   "execution_count": 7,
   "id": "19fdf25a-f0b5-4205-89f2-3f424b885101",
   "metadata": {},
   "outputs": [
    {
     "name": "stdout",
     "output_type": "stream",
     "text": [
      "## Résumé de l'article \"Droit du sang, du sol, naturalisation : quelles sont les règles pour devenir Français ?\"\n",
      "\n",
      "Cet article de L'Est Républicain détaille les différentes façons d'acquérir la nationalité française, sujet de débat politique actuel. \n",
      "\n",
      "**Deux principes fondamentaux:**\n",
      "\n",
      "* **Droit du sang:** Un enfant né d'au moins un parent français est automatiquement français, quel que soit son lieu de naissance.\n",
      "* **Droit du sol:** Un enfant né en France de parents étrangers peut devenir français à sa majorité sous conditions (résidence en France).\n",
      "\n",
      "**Autres voies d'accès à la nationalité française:**\n",
      "\n",
      "* **Mariage:** Après 4 ans de mariage avec un conjoint français, sous conditions de communauté de vie et de connaissance du français.\n",
      "* **Liens familiaux:** Ascendants de Français de plus de 65 ans résidant en France depuis au moins 25 ans, frères et sœurs ayant acquis la nationalité par le droit du sol sous conditions, adoption par un Français.\n",
      "* **Naturalisation:** Ouverte aux personnes de plus de 18 ans remplissant certaines conditions (résidence, insertion, connaissance du français, valeurs de la République...).\n",
      "* **Cas exceptionnels:** Blessure lors d'un engagement dans l'armée française, contribution au rayonnement de la France pour les francophones.\n",
      "\n",
      "**Points importants:**\n",
      "\n",
      "* Le droit du sol est plus restrictif à Mayotte.\n",
      "* La naturalisation est à la discrétion de l'administration.\n",
      "* L'article cite des chiffres de 2023 sur les différentes voies d'accès à la nationalité.\n",
      "* Le débat politique actuel porte sur l'opportunité de modifier ces règles.\n",
      "\n",
      "**En conclusion, l'article offre un panorama complet des moyens d'acquérir la nationalité française, tout en l'inscrivant dans le contexte du débat politique actuel.** \n",
      "\n"
     ]
    }
   ],
   "source": [
    "# charger le résumé généré avec Vertex AI avec le modèle gemini 1-5-pro\n",
    "chemin_fichier = \"resume_article.txt\"\n",
    "resume_gemini = lire_fichier(chemin_fichier)\n",
    "print(resume_gemini)"
   ]
  },
  {
   "cell_type": "code",
   "execution_count": 8,
   "id": "c7d7c9ea-41df-4317-af57-45acf9465d09",
   "metadata": {},
   "outputs": [],
   "source": [
    "# Évaluer le résumé avec BertScorer\n",
    "# pip install bert score\n",
    "from sklearn.feature_extraction.text import TfidfVectorizer\n",
    "from sklearn.metrics.pairwise import cosine_similarity\n",
    "from transformers import BertTokenizer, BertForMaskedLM, BertModel\n",
    "from bert_score import BERTScorer"
   ]
  },
  {
   "cell_type": "code",
   "execution_count": 9,
   "id": "61c14cb1-c822-421d-93a5-ff5a9a37dded",
   "metadata": {},
   "outputs": [],
   "source": [
    "# nettoyer le résumé pour voir si ça change le score \n",
    "import string\n",
    "def supprimer_ponctuations(chaine):\n",
    "    return ''.join([char if char not in string.punctuation else ' ' for char in chaine])"
   ]
  },
  {
   "cell_type": "code",
   "execution_count": 10,
   "id": "efe2ff50-46c2-418d-a54d-8ca515aa39ba",
   "metadata": {},
   "outputs": [],
   "source": [
    "resume_sans_ponc = supprimer_ponctuations(resume_gemini)"
   ]
  },
  {
   "cell_type": "code",
   "execution_count": 11,
   "id": "d957485e-e4c9-40e7-b1cb-3090d38ee4db",
   "metadata": {},
   "outputs": [
    {
     "name": "stdout",
     "output_type": "stream",
     "text": [
      "   Résumé de l article  Droit du sang  du sol  naturalisation   quelles sont les règles pour devenir Français   \n",
      "\n",
      "Cet article de L Est Républicain détaille les différentes façons d acquérir la nationalité française  sujet de débat politique actuel  \n",
      "\n",
      "  Deux principes fondamentaux   \n",
      "\n",
      "    Droit du sang    Un enfant né d au moins un parent français est automatiquement français  quel que soit son lieu de naissance \n",
      "    Droit du sol    Un enfant né en France de parents étrangers peut devenir français à sa majorité sous conditions  résidence en France  \n",
      "\n",
      "  Autres voies d accès à la nationalité française   \n",
      "\n",
      "    Mariage    Après 4 ans de mariage avec un conjoint français  sous conditions de communauté de vie et de connaissance du français \n",
      "    Liens familiaux    Ascendants de Français de plus de 65 ans résidant en France depuis au moins 25 ans  frères et sœurs ayant acquis la nationalité par le droit du sol sous conditions  adoption par un Français \n",
      "    Naturalisation    Ouverte aux personnes de plus de 18 ans remplissant certaines conditions  résidence  insertion  connaissance du français  valeurs de la République     \n",
      "    Cas exceptionnels    Blessure lors d un engagement dans l armée française  contribution au rayonnement de la France pour les francophones \n",
      "\n",
      "  Points importants   \n",
      "\n",
      "  Le droit du sol est plus restrictif à Mayotte \n",
      "  La naturalisation est à la discrétion de l administration \n",
      "  L article cite des chiffres de 2023 sur les différentes voies d accès à la nationalité \n",
      "  Le débat politique actuel porte sur l opportunité de modifier ces règles \n",
      "\n",
      "  En conclusion  l article offre un panorama complet des moyens d acquérir la nationalité française  tout en l inscrivant dans le contexte du débat politique actuel    \n",
      "\n"
     ]
    }
   ],
   "source": [
    "print(resume_sans_ponc)"
   ]
  },
  {
   "cell_type": "code",
   "execution_count": 12,
   "id": "448fb4cd-ce4d-4ac2-bdf3-b4aca09d9746",
   "metadata": {},
   "outputs": [
    {
     "name": "stdout",
     "output_type": "stream",
     "text": [
      "BERTScore Precision: 0.6988, Recall: 0.6778, F1: 0.6881\n"
     ]
    }
   ],
   "source": [
    "scorer = BERTScorer(model_type='bert-base-uncased')\n",
    "P, R, F1 = scorer.score([article], [resume_gemini])\n",
    "print(f\"BERTScore Precision: {P.mean():.4f}, Recall: {R.mean():.4f}, F1: {F1.mean():.4f}\")"
   ]
  },
  {
   "cell_type": "code",
   "execution_count": 13,
   "id": "b9745ba7-94c1-4a88-a3ff-6cdbb072d467",
   "metadata": {},
   "outputs": [
    {
     "name": "stdout",
     "output_type": "stream",
     "text": [
      "BERTScore Precision: 0.6398, Recall: 0.6694, F1: 0.6543\n"
     ]
    }
   ],
   "source": [
    "scorer = BERTScorer(model_type='bert-base-uncased')\n",
    "P, R, F1 = scorer.score([article], [resume_sans_ponc])\n",
    "print(f\"BERTScore Precision: {P.mean():.4f}, Recall: {R.mean():.4f}, F1: {F1.mean():.4f}\")\n",
    "# On remarque que les performances baissent, supprimer les ponctuations est inutile parce qu'elles aident potentiellement le modèle à capturer les idées"
   ]
  },
  {
   "cell_type": "code",
   "execution_count": 14,
   "id": "b0bd4878-f89a-4aa4-ad13-3a3f3b32bc7b",
   "metadata": {},
   "outputs": [],
   "source": [
    "# essayons encore avec Sentence_transformers\n",
    "from sentence_transformers import SentenceTransformer, util\n",
    "model = SentenceTransformer(\"all-MiniLM-L6-v2\")"
   ]
  },
  {
   "cell_type": "code",
   "execution_count": 15,
   "id": "43bc1524-ac5b-410a-a853-2c6da11a5272",
   "metadata": {},
   "outputs": [
    {
     "name": "stdout",
     "output_type": "stream",
     "text": [
      "Similarité cosinus : 0.7344\n"
     ]
    }
   ],
   "source": [
    "#embeddings pour les deux textes\n",
    "embedding_article = model.encode(article, convert_to_tensor=True)\n",
    "embedding_resume = model.encode(resume_gemini, convert_to_tensor=True)\n",
    "\n",
    "# Calculer la similarité cosinus entre les embeddings\n",
    "cosine_sim = util.pytorch_cos_sim(embedding_article, embedding_resume)\n",
    "\n",
    "print(f\"Similarité cosinus : {cosine_sim.item():.4f}\")"
   ]
  },
  {
   "cell_type": "code",
   "execution_count": null,
   "id": "5672072b-9150-4cbc-a433-0c8d338d5d3a",
   "metadata": {},
   "outputs": [],
   "source": []
  },
  {
   "cell_type": "code",
   "execution_count": 24,
   "id": "5f2d885c-96e5-4513-a011-f5031039dc57",
   "metadata": {
    "scrolled": true
   },
   "outputs": [],
   "source": []
  },
  {
   "cell_type": "code",
   "execution_count": null,
   "id": "68160c6e-fec4-41fe-8581-ebe72c844dd6",
   "metadata": {},
   "outputs": [],
   "source": []
  },
  {
   "cell_type": "code",
   "execution_count": null,
   "id": "43bf5ee3-983d-4e36-8d35-a9e5c3dcdf39",
   "metadata": {},
   "outputs": [],
   "source": []
  },
  {
   "cell_type": "code",
   "execution_count": null,
   "id": "50d38227-7e4e-4a73-af8a-66e8e78d2aa1",
   "metadata": {},
   "outputs": [],
   "source": []
  },
  {
   "cell_type": "code",
   "execution_count": null,
   "id": "4d01179c-b39e-4a4f-93ad-d0693d2e3fc8",
   "metadata": {},
   "outputs": [],
   "source": []
  },
  {
   "cell_type": "code",
   "execution_count": null,
   "id": "20d31726-08a8-43bf-bf6f-53073a1f79da",
   "metadata": {},
   "outputs": [],
   "source": []
  },
  {
   "cell_type": "code",
   "execution_count": null,
   "id": "305caf93-ca9b-407d-920f-621b480855a5",
   "metadata": {},
   "outputs": [],
   "source": []
  },
  {
   "cell_type": "code",
   "execution_count": null,
   "id": "0e55ce48-f832-4b0a-9ef9-fa999f088c1c",
   "metadata": {},
   "outputs": [],
   "source": []
  },
  {
   "cell_type": "code",
   "execution_count": null,
   "id": "d4c8d72f-0c07-4098-aecd-4542b0b0fbdd",
   "metadata": {},
   "outputs": [],
   "source": []
  }
 ],
 "metadata": {
  "kernelspec": {
   "display_name": "Python 3 (ipykernel)",
   "language": "python",
   "name": "python3"
  },
  "language_info": {
   "codemirror_mode": {
    "name": "ipython",
    "version": 3
   },
   "file_extension": ".py",
   "mimetype": "text/x-python",
   "name": "python",
   "nbconvert_exporter": "python",
   "pygments_lexer": "ipython3",
   "version": "3.12.7"
  }
 },
 "nbformat": 4,
 "nbformat_minor": 5
}
